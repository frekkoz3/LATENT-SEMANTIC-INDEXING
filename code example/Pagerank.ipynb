{
 "cells": [
  {
   "cell_type": "markdown",
   "id": "gross-access",
   "metadata": {},
   "source": [
    "# A simple PageRank implementation"
   ]
  },
  {
   "cell_type": "code",
   "execution_count": 1,
   "id": "written-multiple",
   "metadata": {},
   "outputs": [],
   "source": [
    "import json\n",
    "import numpy as np"
   ]
  },
  {
   "cell_type": "code",
   "execution_count": 2,
   "id": "proud-bedroom",
   "metadata": {},
   "outputs": [],
   "source": [
    "def read_graph(filename):\n",
    "    # Open the file specified by 'filename' in read mode\n",
    "    with open(filename, 'r') as f:\n",
    "        # Load the graph data from the JSON file into the variable 'g'\n",
    "        g = json.load(f)\n",
    "        # Return the graph data; no further processing is required as it's already in the desired format\n",
    "        return g"
   ]
  },
  {
   "cell_type": "code",
   "execution_count": 3,
   "id": "aa501708",
   "metadata": {},
   "outputs": [
    {
     "data": {
      "text/plain": [
       "{'a': ['b', 'c', 'd'],\n",
       " 'b': ['e', 'f'],\n",
       " 'c': ['e'],\n",
       " 'd': ['a'],\n",
       " 'e': ['d'],\n",
       " 'f': ['a']}"
      ]
     },
     "execution_count": 3,
     "metadata": {},
     "output_type": "execute_result"
    }
   ],
   "source": [
    "read_graph(\"data/example.json\")"
   ]
  },
  {
   "cell_type": "code",
   "execution_count": 4,
   "id": "latest-member",
   "metadata": {},
   "outputs": [],
   "source": [
    "def compute_R(graph):\n",
    "    # Calculate the number of nodes in the graph\n",
    "    n = len(graph.keys())\n",
    "\n",
    "    # we create a dictionary mapping from each node (key in the graph) to a unique index (position in the matrix)\n",
    "    key_to_pos = dict(zip(graph.keys(), range(0,n)))\n",
    "\n",
    "    # Initialize an nxn zero matrix, where n is the number of nodes in the graph\n",
    "    R = np.zeros((n,n))\n",
    "\n",
    "    # Iterate over each node in the graph\n",
    "    for i, source in enumerate(graph.keys()):\n",
    "        # Calculate the out-degree of the current node ('source'), which is the lentgh of its adjacent list \n",
    "        out_deg = len(graph[source])\n",
    "\n",
    "        # Iterate over each destination node that 'source' is connected to\n",
    "        for dest in graph[source]:\n",
    "            # Find the matrix index corresponding to the destination node\n",
    "            j = key_to_pos[dest]\n",
    "\n",
    "            # Update the matrix entry to represent the edge weight from 'source' to 'dest'\n",
    "            # Here, it is set as 1 divided by the out-degree of 'source'\n",
    "            R[i][j] = 1/out_deg\n",
    "\n",
    "    # Return the matrix representing the graph\n",
    "    return R"
   ]
  },
  {
   "cell_type": "code",
   "execution_count": 5,
   "id": "capable-lightning",
   "metadata": {},
   "outputs": [],
   "source": [
    "def PageRank_iteration(x, R, J, alpha):\n",
    "    # Determine the size of the vector x (number of nodes in the graph)\n",
    "    n = len(x)\n",
    "\n",
    "    # Create a column vector of ones with the same length as x\n",
    "    one = np.asmatrix(np.ones(n)).T\n",
    "\n",
    "    # Calculate the transition probability matrix P\n",
    "    # P is a weighted combination of a random jump matrix J and the graph's adjacency matrix R\n",
    "    # 'alpha' is the damping factor: it balances between the random jump and following links in R\n",
    "    P = (alpha * one * J + (1 - alpha) * R)\n",
    "\n",
    "    # Perform the PageRank iteration: multiply the current rank vector x with the transition matrix P\n",
    "    x_prime = x * P\n",
    "\n",
    "    # Return the updated rank vector\n",
    "    return x_prime\n"
   ]
  },
  {
   "cell_type": "code",
   "execution_count": 6,
   "id": "confidential-promotion",
   "metadata": {},
   "outputs": [],
   "source": [
    "def compute_PageRank(graph, alpha, epsilon):\n",
    "    # Get the number of nodes in the graph\n",
    "    n = len(graph.keys())\n",
    "\n",
    "    # Compute the transition matrix R for the graph without considering teleportation\n",
    "    R = compute_R(graph)\n",
    "\n",
    "    # Initialize the jump vector J, a uniform distribution vector where each entry is 1/n\n",
    "    J = np.ones(n)/n\n",
    "\n",
    "    # Initialize the PageRank vector x with a uniform distribution (each entry is 1/n)\n",
    "    x = np.ones(n)/n\n",
    "    # Alternative initialization for x: a random stochastic vector\n",
    "    # x = np.random.rand(n)\n",
    "    # x = x/x.sum()\n",
    "\n",
    "    # Initialize the error measure to infinity for the while loop condition\n",
    "    err = np.inf\n",
    "\n",
    "    # Iterate until the sum of the absolute differences between new and old x falls below epsilon\n",
    "    while (err > epsilon):\n",
    "        # Perform a PageRank iteration to get the new rank vector\n",
    "        x_new = PageRank_iteration(x, R, J, alpha)\n",
    "\n",
    "        # Update the error measure as the sum of absolute differences between new and old x\n",
    "        err = (abs(x_new - x)).sum()\n",
    "\n",
    "        # Debugging: print the current error value\n",
    "        print(err)\n",
    "\n",
    "        # Update the rank vector for the next iteration\n",
    "        x = x_new\n",
    "\n",
    "    # Print the final PageRank scores for each node in the graph\n",
    "    print(\"PageRank scores:\")\n",
    "    for i, k in enumerate(graph.keys()):\n",
    "        print(f\"{k}: {x[0,i]}\")\n",
    "\n",
    "    # Return the final PageRank vector\n",
    "    return x"
   ]
  },
  {
   "cell_type": "code",
   "execution_count": 7,
   "id": "desirable-bottle",
   "metadata": {},
   "outputs": [
    {
     "data": {
      "text/plain": [
       "{'a': ['b', 'c', 'd'],\n",
       " 'b': ['e', 'f'],\n",
       " 'c': ['e'],\n",
       " 'd': ['a'],\n",
       " 'e': ['d'],\n",
       " 'f': ['a']}"
      ]
     },
     "execution_count": 7,
     "metadata": {},
     "output_type": "execute_result"
    }
   ],
   "source": [
    "# Function call to read the graph data from a file named \"example.json\"\n",
    "G = read_graph(\"data/example.json\")\n",
    "\n",
    "# Print the graph data loaded from \"example.json\"\n",
    "G"
   ]
  },
  {
   "cell_type": "code",
   "execution_count": 8,
   "id": "departmental-graduate",
   "metadata": {},
   "outputs": [
    {
     "name": "stdout",
     "output_type": "stream",
     "text": [
      "0.605\n",
      "0.4900499999999998\n",
      "0.3773384999999998\n",
      "0.32019866999999985\n",
      "0.30819121987500003\n",
      "0.2789570813040001\n",
      "0.2301395920758001\n",
      "0.19508645545775485\n",
      "0.1780982699569446\n",
      "0.16049990528705663\n",
      "0.13717159296642067\n",
      "0.11733352554267039\n",
      "0.10439872024304728\n",
      "0.0932377371928985\n",
      "0.08101553726442613\n",
      "0.0699328313364963\n",
      "0.06153219255482146\n",
      "0.054527406030074374\n",
      "0.047704875510938945\n",
      "0.04145193210765448\n",
      "0.03632099089951812\n",
      "0.032017085053075885\n",
      "0.028075162884862538\n",
      "0.024495558456739938\n",
      "0.021439364248160557\n",
      "0.018840223946054654\n",
      "0.016527349044354205\n",
      "0.014453170072871613\n",
      "0.012649993733878345\n",
      "0.01109802759611938\n",
      "0.009733489648710805\n",
      "PageRank scores:\n",
      "a: 0.31582393596234243\n",
      "b: 0.10502541513974245\n",
      "c: 0.10502541513974245\n",
      "d: 0.2608705489588058\n",
      "e: 0.1591076802661904\n",
      "f: 0.05414700453317457\n"
     ]
    },
    {
     "data": {
      "text/plain": [
       "matrix([[0.31582394, 0.10502542, 0.10502542, 0.26087055, 0.15910768,\n",
       "         0.054147  ]])"
      ]
     },
     "execution_count": 8,
     "metadata": {},
     "output_type": "execute_result"
    }
   ],
   "source": [
    "# Function call to compute the PageRank of the graph 'G'\n",
    "# The damping factor (alpha) is set to 0.01, and the convergence threshold (epsilon) is also set to 0.01\n",
    "compute_PageRank(G, 0.01, 0.01)\n",
    "# note that if alpha<1 you obtain different score but the ranking remains the same"
   ]
  }
 ],
 "metadata": {
  "kernelspec": {
   "display_name": "ir",
   "language": "python",
   "name": "python3"
  },
  "language_info": {
   "codemirror_mode": {
    "name": "ipython",
    "version": 3
   },
   "file_extension": ".py",
   "mimetype": "text/x-python",
   "name": "python",
   "nbconvert_exporter": "python",
   "pygments_lexer": "ipython3",
   "version": "3.13.2"
  }
 },
 "nbformat": 4,
 "nbformat_minor": 5
}
