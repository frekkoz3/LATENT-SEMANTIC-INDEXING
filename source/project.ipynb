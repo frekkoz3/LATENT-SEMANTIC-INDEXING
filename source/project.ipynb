{
 "cells": [
  {
   "cell_type": "markdown",
   "id": "903b1d4c",
   "metadata": {},
   "source": [
    "# LATENT SEMANTIC INDEXING\n",
    "\n",
    "**Latent Semantic Indexing (LSI)** is a technique used in information retrieval and natural language processing to discover hidden (latent) relationships between words and documents. It aims to overcome the limitations of traditional keyword-based search by capturing the semantic meaning behind terms.\n",
    "\n",
    "At its core, LSI works by:\n",
    "\n",
    "1. Creating a term-document matrix, where each row represents a unique term, each column represents a document, and each cell contains the frequency (or TF-IDF score) of the term in the document.\n",
    "2. Applying Singular Value Decomposition (SVD) to this matrix. SVD reduces the high-dimensional term space into a lower-dimensional semantic space, where similar words and documents are grouped closer together based on their usage patterns—not just their exact terms.\n",
    "3. Mapping both documents and queries into this semantic space, allowing the system to find relevant results even when the query and the documents don’t share exact keywords."
   ]
  }
 ],
 "metadata": {
  "language_info": {
   "name": "python"
  }
 },
 "nbformat": 4,
 "nbformat_minor": 5
}
